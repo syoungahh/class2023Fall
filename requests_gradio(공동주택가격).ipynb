{
  "nbformat": 4,
  "nbformat_minor": 0,
  "metadata": {
    "colab": {
      "name": "requests_gradio.ipynb",
      "provenance": [],
      "machine_shape": "hm",
      "include_colab_link": true
    },
    "kernelspec": {
      "name": "python3",
      "display_name": "Python 3"
    },
    "language_info": {
      "name": "python"
    }
  },
  "cells": [
    {
      "cell_type": "markdown",
      "metadata": {
        "id": "view-in-github",
        "colab_type": "text"
      },
      "source": [
        "<a href=\"https://colab.research.google.com/github/syoungahh/class2023Fall/blob/main/requests_gradio(%EA%B3%B5%EB%8F%99%EC%A3%BC%ED%83%9D%EA%B0%80%EA%B2%A9).ipynb\" target=\"_parent\"><img src=\"https://colab.research.google.com/assets/colab-badge.svg\" alt=\"Open In Colab\"/></a>"
      ]
    },
    {
      "cell_type": "markdown",
      "source": [
        "## import libraries"
      ],
      "metadata": {
        "id": "n4d_TfR3M4_7"
      }
    },
    {
      "cell_type": "code",
      "source": [
        "!pip install gradio\n",
        "import gradio as gr\n",
        "import requests\n",
        "import pandas as pd\n",
        "\n",
        "!pip install xmltodict\n",
        "import json\n",
        "import xmltodict"
      ],
      "metadata": {
        "id": "8eZHGJhmqd9a"
      },
      "execution_count": null,
      "outputs": []
    },
    {
      "cell_type": "markdown",
      "source": [
        "## test API\n",
        "국토교통부_아파트매매 실거래자료\n",
        "https://www.data.go.kr/data/15058747/openapi.do\n"
      ],
      "metadata": {
        "id": "LDOeErLXgJUu"
      }
    },
    {
      "cell_type": "code",
      "source": [
        "LAWD_CD = '11290' # 법정동코드 (e.g. 성북구)\n",
        "DEAL_YMD = '202310' # 조회월\n",
        "serviceKey = requests.utils.unquote('miH%2BZXg85lQy4%2FkmhffvygXDIFiTwisriSLxtyECSzw6hxTVK7yI8QKIOc7mP7LEqCnhBGuj6iW1gZW65dum7A%3D%3D')\n",
        "\n",
        "url = 'http://openapi.molit.go.kr:8081/OpenAPI_ToolInstallPackage/service/rest/RTMSOBJSvc/getRTMSDataSvcAptTrade'\n",
        "params ={'serviceKey' : serviceKey, 'LAWD_CD' : LAWD_CD, 'DEAL_YMD' : DEAL_YMD }\n",
        "\n",
        "response = requests.get(url, params=params)\n",
        "print(response.content)"
      ],
      "metadata": {
        "id": "lHHEwqpyJF7r",
        "outputId": "62d1dba7-3b2b-40c7-cebb-e7cff4deda14",
        "colab": {
          "base_uri": "https://localhost:8080/",
          "height": 255
        }
      },
      "execution_count": 3,
      "outputs": [
        {
          "output_type": "error",
          "ename": "NameError",
          "evalue": "ignored",
          "traceback": [
            "\u001b[0;31m---------------------------------------------------------------------------\u001b[0m",
            "\u001b[0;31mNameError\u001b[0m                                 Traceback (most recent call last)",
            "\u001b[0;32m<ipython-input-3-f85f73c64d7d>\u001b[0m in \u001b[0;36m<cell line: 3>\u001b[0;34m()\u001b[0m\n\u001b[1;32m      1\u001b[0m \u001b[0mLAWD_CD\u001b[0m \u001b[0;34m=\u001b[0m \u001b[0;34m'11290'\u001b[0m \u001b[0;31m# 법정동코드 (e.g. 성북구)\u001b[0m\u001b[0;34m\u001b[0m\u001b[0;34m\u001b[0m\u001b[0m\n\u001b[1;32m      2\u001b[0m \u001b[0mDEAL_YMD\u001b[0m \u001b[0;34m=\u001b[0m \u001b[0;34m'202310'\u001b[0m \u001b[0;31m# 조회월\u001b[0m\u001b[0;34m\u001b[0m\u001b[0;34m\u001b[0m\u001b[0m\n\u001b[0;32m----> 3\u001b[0;31m \u001b[0mserviceKey\u001b[0m \u001b[0;34m=\u001b[0m \u001b[0mrequests\u001b[0m\u001b[0;34m.\u001b[0m\u001b[0mutils\u001b[0m\u001b[0;34m.\u001b[0m\u001b[0munquote\u001b[0m\u001b[0;34m(\u001b[0m\u001b[0;34m'miH%2BZXg85lQy4%2FkmhffvygXDIFiTwisriSLxtyECSzw6hxTVK7yI8QKIOc7mP7LEqCnhBGuj6iW1gZW65dum7A%3D%3D'\u001b[0m\u001b[0;34m)\u001b[0m\u001b[0;34m\u001b[0m\u001b[0;34m\u001b[0m\u001b[0m\n\u001b[0m\u001b[1;32m      4\u001b[0m \u001b[0;34m\u001b[0m\u001b[0m\n\u001b[1;32m      5\u001b[0m \u001b[0murl\u001b[0m \u001b[0;34m=\u001b[0m \u001b[0;34m'http://openapi.molit.go.kr:8081/OpenAPI_ToolInstallPackage/service/rest/RTMSOBJSvc/getRTMSDataSvcAptTrade'\u001b[0m\u001b[0;34m\u001b[0m\u001b[0;34m\u001b[0m\u001b[0m\n",
            "\u001b[0;31mNameError\u001b[0m: name 'requests' is not defined"
          ]
        }
      ]
    },
    {
      "cell_type": "markdown",
      "source": [
        "https://codebeautify.org/"
      ],
      "metadata": {
        "id": "lpbP7XcMalRT"
      }
    },
    {
      "cell_type": "markdown",
      "source": [
        "#### xmltodict: xml text to dict\n",
        "#### json.loads: json text to dict\n",
        "#### json.dumps: dict to json text\n",
        "\n"
      ],
      "metadata": {
        "id": "7EdvyvDpZk58"
      }
    },
    {
      "cell_type": "code",
      "source": [
        "dict_data = xmltodict.parse(response.text)\n",
        "# json_txt = json.dumps(dict_data, ensure_ascii = False)\n",
        "# dict_data = json.loads(json_txt)\n"
      ],
      "metadata": {
        "id": "tV6YoUcsdN8c",
        "outputId": "c74c8f49-618c-406f-a398-790aee06212f",
        "colab": {
          "base_uri": "https://localhost:8080/",
          "height": 219
        }
      },
      "execution_count": 2,
      "outputs": [
        {
          "output_type": "error",
          "ename": "NameError",
          "evalue": "ignored",
          "traceback": [
            "\u001b[0;31m---------------------------------------------------------------------------\u001b[0m",
            "\u001b[0;31mNameError\u001b[0m                                 Traceback (most recent call last)",
            "\u001b[0;32m<ipython-input-2-674010170917>\u001b[0m in \u001b[0;36m<cell line: 1>\u001b[0;34m()\u001b[0m\n\u001b[0;32m----> 1\u001b[0;31m \u001b[0mdict_data\u001b[0m \u001b[0;34m=\u001b[0m \u001b[0mxmltodict\u001b[0m\u001b[0;34m.\u001b[0m\u001b[0mparse\u001b[0m\u001b[0;34m(\u001b[0m\u001b[0mresponse\u001b[0m\u001b[0;34m.\u001b[0m\u001b[0mtext\u001b[0m\u001b[0;34m)\u001b[0m\u001b[0;34m\u001b[0m\u001b[0;34m\u001b[0m\u001b[0m\n\u001b[0m\u001b[1;32m      2\u001b[0m \u001b[0;31m# json_txt = json.dumps(dict_data, ensure_ascii = False)\u001b[0m\u001b[0;34m\u001b[0m\u001b[0;34m\u001b[0m\u001b[0m\n\u001b[1;32m      3\u001b[0m \u001b[0;31m# dict_data = json.loads(json_txt)\u001b[0m\u001b[0;34m\u001b[0m\u001b[0;34m\u001b[0m\u001b[0m\n",
            "\u001b[0;31mNameError\u001b[0m: name 'xmltodict' is not defined"
          ]
        }
      ]
    },
    {
      "cell_type": "code",
      "source": [
        "item = dict_data['response']['body']['items']['item']"
      ],
      "metadata": {
        "id": "AXxaFHiM-vUU"
      },
      "execution_count": null,
      "outputs": []
    },
    {
      "cell_type": "code",
      "source": [
        "df = pd.DataFrame(item)\n",
        "df"
      ],
      "metadata": {
        "id": "8ll_27m1x35t"
      },
      "execution_count": null,
      "outputs": []
    },
    {
      "cell_type": "markdown",
      "source": [
        "## make a function"
      ],
      "metadata": {
        "id": "7Ij1aHSygY-A"
      }
    },
    {
      "cell_type": "code",
      "source": [
        "def test(LAWD_CD, DEAL_YMD):\n",
        "  serviceKey = requests.utils.unquote('miH%2BZXg85lQy4%2FkmhffvygXDIFiTwisriSLxtyECSzw6hxTVK7yI8QKIOc7mP7LEqCnhBGuj6iW1gZW65dum7A%3D%3D')\n",
        "  url = 'http://openapi.molit.go.kr:8081/OpenAPI_ToolInstallPackage/service/rest/RTMSOBJSvc/getRTMSDataSvcAptTrade'\n",
        "  params ={'serviceKey' : serviceKey, 'LAWD_CD' : LAWD_CD, 'DEAL_YMD' : DEAL_YMD }\n",
        "\n",
        "  response = requests.get(url, params=params)\n",
        "  dict_data = xmltodict.parse(response.content)\n",
        "  item = dict_data['response']['body']['items']['item']\n",
        "\n",
        "  df = pd.DataFrame(item)\n",
        "  return df"
      ],
      "metadata": {
        "id": "Wf_JH79cDKc3"
      },
      "execution_count": null,
      "outputs": []
    },
    {
      "cell_type": "markdown",
      "source": [
        "## Build a demo"
      ],
      "metadata": {
        "id": "Ca8G_kDVgp3x"
      }
    },
    {
      "cell_type": "code",
      "source": [
        "demo = gr.Interface(fn=test, inputs=[\"text\", \"text\"], outputs=\"dataframe\")\n",
        "demo.launch(share=True)"
      ],
      "metadata": {
        "id": "nopFEK52GSuz"
      },
      "execution_count": null,
      "outputs": []
    }
  ]
}