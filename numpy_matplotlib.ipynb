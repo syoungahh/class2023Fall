{
  "nbformat": 4,
  "nbformat_minor": 0,
  "metadata": {
    "kernelspec": {
      "display_name": "Python 3",
      "language": "python",
      "name": "python3"
    },
    "language_info": {
      "codemirror_mode": {
        "name": "ipython",
        "version": 3
      },
      "file_extension": ".py",
      "mimetype": "text/x-python",
      "name": "python",
      "nbconvert_exporter": "python",
      "pygments_lexer": "ipython3",
      "version": "3.7.1"
    },
    "colab": {
      "name": "numpy_matplotlib.ipynb",
      "provenance": [],
      "include_colab_link": true
    }
  },
  "cells": [
    {
      "cell_type": "markdown",
      "metadata": {
        "id": "view-in-github",
        "colab_type": "text"
      },
      "source": [
        "<a href=\"https://colab.research.google.com/github/syoungahh/class2023Fall/blob/main/numpy_matplotlib.ipynb\" target=\"_parent\"><img src=\"https://colab.research.google.com/assets/colab-badge.svg\" alt=\"Open In Colab\"/></a>"
      ]
    },
    {
      "cell_type": "markdown",
      "metadata": {
        "id": "JcCdLoe_4bY7"
      },
      "source": [
        "### create nd arrays (≈matrices)"
      ]
    },
    {
      "cell_type": "code",
      "source": [
        "import numpy as np"
      ],
      "metadata": {
        "id": "In-q9861gXc0"
      },
      "execution_count": 1,
      "outputs": []
    },
    {
      "cell_type": "code",
      "source": [
        "x = np.array([1,2,3])\n",
        "x\n",
        "print(x)\n",
        "#1.list가 array123으로 바뀜"
      ],
      "metadata": {
        "id": "oQ9rw4-BFQgD",
        "outputId": "bd583d24-3b4a-48c4-85c2-7ca3978697d1",
        "colab": {
          "base_uri": "https://localhost:8080/"
        }
      },
      "execution_count": 6,
      "outputs": [
        {
          "output_type": "stream",
          "name": "stdout",
          "text": [
            "[1 2 3]\n"
          ]
        }
      ]
    },
    {
      "cell_type": "code",
      "metadata": {
        "id": "2rqpSPZCShBC",
        "colab": {
          "base_uri": "https://localhost:8080/"
        },
        "outputId": "2ccb6d74-0d3b-4574-caf6-def1ab3ec234"
      },
      "source": [
        "#array는 숫자들로 된 차원....\n",
        "\n",
        "x = np.array([1,2,3])\n",
        "print(x)\n",
        "print(type(x))  #list가아님!\n",
        "print(x.shape)  #shape이 dimension 정보를줌!! 숫자 3개든 한줄짜리라는 뜻"
      ],
      "execution_count": 4,
      "outputs": [
        {
          "output_type": "stream",
          "name": "stdout",
          "text": [
            "[1 2 3]\n",
            "<class 'numpy.ndarray'>\n",
            "(3,)\n"
          ]
        }
      ]
    },
    {
      "cell_type": "code",
      "metadata": {
        "id": "EjC88C75ShBC",
        "colab": {
          "base_uri": "https://localhost:8080/"
        },
        "outputId": "432e7f1c-8583-4c1c-bda6-2887d61e0fb3"
      },
      "source": [
        "x = np.arange(0,10,2)  #2.에이 레인지. 0부터 10되기전까지 2간격으로만들어\n",
        "print(x)\n",
        "print(type(x))\n",
        "print(x.shape)"
      ],
      "execution_count": 7,
      "outputs": [
        {
          "output_type": "stream",
          "name": "stdout",
          "text": [
            "[0 2 4 6 8]\n",
            "<class 'numpy.ndarray'>\n",
            "(5,)\n"
          ]
        }
      ]
    },
    {
      "cell_type": "code",
      "metadata": {
        "id": "-MwkCEjTShBC",
        "colab": {
          "base_uri": "https://localhost:8080/"
        },
        "outputId": "20a280e9-684c-4ef0-e804-dfc1d2d4f4ee"
      },
      "source": [
        "x = np.linspace(0,10,6)  #3.linear space. 0과 10을 포함! 6개로 나눠라\n",
        "print(x)\n",
        "print(type(x))\n",
        "print(x.shape)"
      ],
      "execution_count": 9,
      "outputs": [
        {
          "output_type": "stream",
          "name": "stdout",
          "text": [
            "[ 0.  2.  4.  6.  8. 10.]\n",
            "<class 'numpy.ndarray'>\n",
            "(6,)\n"
          ]
        }
      ]
    },
    {
      "cell_type": "markdown",
      "source": [
        "1,2,3 총 3개가 3\n",
        "큰거 [123 ] [456 ] 2개\n",
        "(2, 3)"
      ],
      "metadata": {
        "id": "50kXmA7OGP_h"
      }
    },
    {
      "cell_type": "code",
      "metadata": {
        "id": "tjk79SQ27fNv",
        "colab": {
          "base_uri": "https://localhost:8080/"
        },
        "outputId": "3ff3368b-6bb1-4664-933e-8504613780b1"
      },
      "source": [
        "x = np.array([[1,2,3], [4,5,6]])\n",
        "print(x)\n",
        "print(type(x))\n",
        "print(x.shape)"
      ],
      "execution_count": null,
      "outputs": [
        {
          "output_type": "stream",
          "name": "stdout",
          "text": [
            "[[1 2 3]\n",
            " [4 5 6]]\n",
            "<class 'numpy.ndarray'>\n",
            "(2, 3)\n"
          ]
        }
      ]
    },
    {
      "cell_type": "markdown",
      "source": [
        "[[[대괗로 세개니까 3차원"
      ],
      "metadata": {
        "id": "71ua-I76Gjgy"
      }
    },
    {
      "cell_type": "code",
      "metadata": {
        "id": "C1ogg6iZ7yir",
        "colab": {
          "base_uri": "https://localhost:8080/"
        },
        "outputId": "baf27f4e-10a7-40bb-82f4-bf470d8de90c"
      },
      "source": [
        "x = np.array([[[1,2,3], [4,5,6]], [[7,8,9], [10,11,12]]])\n",
        "print(x)\n",
        "print(type(x))\n",
        "print(x.shape)"
      ],
      "execution_count": null,
      "outputs": [
        {
          "output_type": "stream",
          "name": "stdout",
          "text": [
            "[[[ 1  2  3]\n",
            "  [ 4  5  6]]\n",
            "\n",
            " [[ 7  8  9]\n",
            "  [10 11 12]]]\n",
            "<class 'numpy.ndarray'>\n",
            "(2, 2, 3)\n"
          ]
        }
      ]
    },
    {
      "cell_type": "code",
      "metadata": {
        "id": "efgeNHtD8ZlT",
        "colab": {
          "base_uri": "https://localhost:8080/"
        },
        "outputId": "5a8fda5d-b699-4f7c-adff-8305ef2832e0"
      },
      "source": [
        "x = np.ones([2, 3, 4])  #4. ones. 1이라는 숫자를 2,2,3의디멘션에 맞춰서 만들어줌\n",
        "print(x)\n",
        "print(type(x))\n",
        "print(x.shape)"
      ],
      "execution_count": 2,
      "outputs": [
        {
          "output_type": "stream",
          "name": "stdout",
          "text": [
            "[[[1. 1. 1. 1.]\n",
            "  [1. 1. 1. 1.]\n",
            "  [1. 1. 1. 1.]]\n",
            "\n",
            " [[1. 1. 1. 1.]\n",
            "  [1. 1. 1. 1.]\n",
            "  [1. 1. 1. 1.]]]\n",
            "<class 'numpy.ndarray'>\n",
            "(2, 3, 4)\n"
          ]
        }
      ]
    },
    {
      "cell_type": "code",
      "metadata": {
        "id": "b_F-ccY08zzl",
        "colab": {
          "base_uri": "https://localhost:8080/"
        },
        "outputId": "1326cb14-e678-43a0-ace6-0250a5e33d5d"
      },
      "source": [
        "x = np.zeros([2, 2, 3])  #0으로만\n",
        "print(x)\n",
        "print(type(x))\n",
        "print(x.shape)\n",
        "\n",
        "x.reshape(3,2,2)\n",
        "#Tip. 데이터의 개수와 형태의 크기는 같아야한다, Tip. ndarray가 아닌 다른 자료(list, tuple, range)를 바로 reshape하려면 오류가 뜬다."
      ],
      "execution_count": 3,
      "outputs": [
        {
          "output_type": "stream",
          "name": "stdout",
          "text": [
            "[[[0. 0. 0.]\n",
            "  [0. 0. 0.]]\n",
            "\n",
            " [[0. 0. 0.]\n",
            "  [0. 0. 0.]]]\n",
            "<class 'numpy.ndarray'>\n",
            "(2, 2, 3)\n"
          ]
        },
        {
          "output_type": "execute_result",
          "data": {
            "text/plain": [
              "array([[[0., 0.],\n",
              "        [0., 0.]],\n",
              "\n",
              "       [[0., 0.],\n",
              "        [0., 0.]],\n",
              "\n",
              "       [[0., 0.],\n",
              "        [0., 0.]]])"
            ]
          },
          "metadata": {},
          "execution_count": 3
        }
      ]
    },
    {
      "cell_type": "markdown",
      "metadata": {
        "id": "0hQuDJ5g9gpE"
      },
      "source": [
        "### create random numbers"
      ]
    },
    {
      "cell_type": "code",
      "source": [
        "np.random.normal(0, 1, [2,3,4])   #normal은 randn보다 general하게 이용가능"
      ],
      "metadata": {
        "id": "pCVnElBgan70",
        "outputId": "05a3faeb-9653-4761-b31d-23d4a1a2fb94",
        "colab": {
          "base_uri": "https://localhost:8080/"
        }
      },
      "execution_count": 4,
      "outputs": [
        {
          "output_type": "execute_result",
          "data": {
            "text/plain": [
              "array([[[-1.25377823,  1.50561111, -0.73781097, -0.34883676],\n",
              "        [ 2.94173725, -1.05584107,  0.09115659, -0.14354029],\n",
              "        [-0.32872869, -0.06707418,  1.16757037,  0.69505853]],\n",
              "\n",
              "       [[ 1.07701673, -1.50178198,  0.66568458, -1.60517156],\n",
              "        [ 2.34278089, -0.48724172,  1.69493564,  0.73254814],\n",
              "        [ 1.38341864, -1.79176797,  0.90510328, -1.15523542]]])"
            ]
          },
          "metadata": {},
          "execution_count": 4
        }
      ]
    },
    {
      "cell_type": "code",
      "metadata": {
        "id": "QRatmkx79otL"
      },
      "source": [
        "import matplotlib.pyplot as plt"
      ],
      "execution_count": 5,
      "outputs": []
    },
    {
      "cell_type": "code",
      "metadata": {
        "id": "z1oOAB6dShBD",
        "colab": {
          "base_uri": "https://localhost:8080/",
          "height": 828
        },
        "outputId": "d68256c8-073d-481c-8b5d-467a718ae801"
      },
      "source": [
        "x = np.random.normal(0, 1, 100)\n",
        "print(x)\n",
        "plt.hist(x, bins=10)  #bin도 수정가"
      ],
      "execution_count": 6,
      "outputs": [
        {
          "output_type": "stream",
          "name": "stdout",
          "text": [
            "[ 0.28921623 -0.46743708 -0.71168186  0.00515085 -0.45925973 -1.36921943\n",
            " -0.12410988 -0.61458227 -1.37610861 -0.75986396  0.08943932 -1.93158617\n",
            " -0.01995279  0.12325192  0.4778279   0.72567448 -1.03273652  1.53881333\n",
            "  0.83787424  1.40087224  0.37600371 -1.08311956 -0.60801896  0.95658036\n",
            " -1.27665451  0.51534782 -0.23239967  0.22965158  1.14130714 -0.43555541\n",
            "  0.74592536  0.53229458  0.57182885  0.41496997  1.12448753 -0.98957141\n",
            "  0.67591941  1.81409044 -1.07019578  1.78293814  1.34216341 -0.73879195\n",
            "  0.84177781 -0.77154136  0.35734557  0.43357125  1.14089025 -0.36703395\n",
            " -1.21734607  1.22006185 -0.31967942  0.54103616 -0.12956058  0.14375031\n",
            " -1.16798429  0.22731301  0.80656022  0.8686596  -0.90285142 -1.21451781\n",
            "  0.69419876  1.09032831 -1.21407953 -0.31142307  1.786047    0.3126664\n",
            "  1.24096758 -0.08440347 -0.2777056  -0.10482472 -0.70441231  1.57673583\n",
            " -0.59483299  0.34573446 -0.06827561 -0.41025728 -1.80842552 -0.03754933\n",
            "  1.53439146  0.09346258  0.34570756  0.16268654  0.12391028 -0.91992359\n",
            " -1.31615933 -0.43720346  1.52312182 -0.72347962  0.74215896  0.37375147\n",
            "  0.02014089 -0.73614984 -0.23353405  0.99281718 -0.28017637  0.49600093\n",
            "  0.18337183  0.31595567  0.18961583  0.02097362]\n"
          ]
        },
        {
          "output_type": "execute_result",
          "data": {
            "text/plain": [
              "(array([ 2.,  7.,  7., 14., 13., 17., 15., 10.,  8.,  7.]),\n",
              " array([-1.93158617, -1.55701851, -1.18245084, -0.80788318, -0.43331552,\n",
              "        -0.05874786,  0.3158198 ,  0.69038746,  1.06495512,  1.43952278,\n",
              "         1.81409044]),\n",
              " <BarContainer object of 10 artists>)"
            ]
          },
          "metadata": {},
          "execution_count": 6
        },
        {
          "output_type": "display_data",
          "data": {
            "text/plain": [
              "<Figure size 640x480 with 1 Axes>"
            ],
            "image/png": "[encoded data removed]"
          },
          "metadata": {}
        }
      ]
    },
    {
      "cell_type": "markdown",
      "metadata": {
        "id": "G0exvwBbShBE"
      },
      "source": [
        "### generate a sine curve"
      ]
    },
    {
      "cell_type": "code",
      "metadata": {
        "id": "HgQmRXzMShBE",
        "colab": {
          "base_uri": "https://localhost:8080/",
          "height": 448
        },
        "outputId": "0b6e884e-8238-41f4-9af7-66fb3f55cbb7"
      },
      "source": [
        "plt.figure()\n",
        "\n",
        "theta1 = np.linspace(0, 2*np.pi, 100)     # 0부터, 2파이까지 (numpy안에 있는 파이값 (꼭 함수만있는거아님)), 100개의 숫자를 균일한 간격으로\n",
        "s1 = np.sin(theta1)  # sin함수에 넣기. Q!!!!!!theta1과 s1의 개수는 똑같이 100개다 TRUE\n",
        "theta2 = np.linspace(0, 2*np.pi, 100) #np.pi/2가 없으면 1,2그래프 둘다 똑같이나옴\n",
        "s2 = np.sin(theta2) *3  #*3은 그래프2가 진폭이 커짐 but correlation은 여전히 1\n",
        "\n",
        "plt.subplot(2, 1, 1) # (rows, columns, panel number) . 2행 1열 1번째에 그려라\n",
        "plt.plot(theta1, s1, '.')  #x정보, y정보, 점으로 찍어라\n",
        "plt.subplot(2, 1, 2) # (rows, columns, panel number)\n",
        "plt.plot(theta2, s2, '.')"
      ],
      "execution_count": null,
      "outputs": [
        {
          "output_type": "execute_result",
          "data": {
            "text/plain": [
              "[<matplotlib.lines.Line2D at 0x7d09f827ac20>]"
            ]
          },
          "metadata": {},
          "execution_count": 19
        },
        {
          "output_type": "display_data",
          "data": {
            "text/plain": [
              "<Figure size 640x480 with 2 Axes>"
            ],
            "image/png": "[encoded data removed]"
          },
          "metadata": {}
        }
      ]
    },
    {
      "cell_type": "code",
      "metadata": {
        "id": "TuH489v9BvQ7",
        "colab": {
          "base_uri": "https://localhost:8080/"
        },
        "outputId": "6b26b1d2-9cd5-41c1-fb84-b88bf30c55ad"
      },
      "source": [
        "np.corrcoef(s1,s2)   # np.pi/100하면 위오, 아래왼이 1(상관관계젤높음)에서 점점 떨어짐.."
      ],
      "execution_count": null,
      "outputs": [
        {
          "output_type": "execute_result",
          "data": {
            "text/plain": [
              "array([[1., 1.],\n",
              "       [1., 1.]])"
            ]
          },
          "metadata": {},
          "execution_count": 18
        }
      ]
    },
    {
      "cell_type": "code",
      "source": [
        "plt.figure()\n",
        "\n",
        "theta1 = np.linspace(0, 2*np.pi, 100)     # 0부터, 2파이까지 (numpy안에 있는 파이값 (꼭 함수만있는거아님)), 100개의 숫자를 균일한 간격으로\n",
        "s1 = np.sin(theta1)  # sin함수에 넣기. Q!!!!!!theta1과 s1의 개수는 똑같이 100개다 TRUE\n",
        "theta2 = np.linspace(0, 2*np.pi, 100) + np.pi/2  #90도\n",
        "s2 = np.sin(theta2)\n",
        "\n",
        "plt.subplot(2, 1, 1) # (rows, columns, panel number) . 2행 1열 1번째에 그려라\n",
        "plt.plot(theta1, s1, '.')  #x정보, y정보, 점으로 찍어라\n",
        "plt.subplot(2, 1, 2) # (rows, columns, panel number)\n",
        "plt.plot(theta2, s2, '.')"
      ],
      "metadata": {
        "id": "RhZEWo4tKcu7",
        "outputId": "b2f478d5-29b7-457b-a259-f66f592927e9",
        "colab": {
          "base_uri": "https://localhost:8080/",
          "height": 448
        }
      },
      "execution_count": null,
      "outputs": [
        {
          "output_type": "execute_result",
          "data": {
            "text/plain": [
              "[<matplotlib.lines.Line2D at 0x7d09f84c55d0>]"
            ]
          },
          "metadata": {},
          "execution_count": 12
        },
        {
          "output_type": "display_data",
          "data": {
            "text/plain": [
              "<Figure size 640x480 with 2 Axes>"
            ],
            "image/png": "[encoded data removed]"
          },
          "metadata": {}
        }
      ]
    },
    {
      "cell_type": "code",
      "source": [
        "np.corrcoef(s1,s2)    #2의 e-17 = 10의 -17승 =0. correlation이 0이 나오면 상관이 하나도 없다는 뜻"
      ],
      "metadata": {
        "id": "x5sMpsHpKj2L",
        "outputId": "c70ccd02-5929-477c-bb76-5dd467a283e5",
        "colab": {
          "base_uri": "https://localhost:8080/"
        }
      },
      "execution_count": null,
      "outputs": [
        {
          "output_type": "execute_result",
          "data": {
            "text/plain": [
              "array([[1.00000000e+00, 2.41915449e-17],\n",
              "       [2.41915449e-17, 1.00000000e+00]])"
            ]
          },
          "metadata": {},
          "execution_count": 13
        }
      ]
    }
  ]
}