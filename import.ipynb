{
  "nbformat": 4,
  "nbformat_minor": 0,
  "metadata": {
    "colab": {
      "name": "import.ipynb",
      "provenance": [],
      "include_colab_link": true
    },
    "kernelspec": {
      "name": "python3",
      "display_name": "Python 3"
    },
    "language_info": {
      "name": "python"
    }
  },
  "cells": [
    {
      "cell_type": "markdown",
      "metadata": {
        "id": "view-in-github",
        "colab_type": "text"
      },
      "source": [
        "<a href=\"https://colab.research.google.com/github/syoungahh/class2023Fall/blob/main/import.ipynb\" target=\"_parent\"><img src=\"https://colab.research.google.com/assets/colab-badge.svg\" alt=\"Open In Colab\"/></a>"
      ]
    },
    {
      "cell_type": "code",
      "source": [],
      "metadata": {
        "id": "WbZCxwSB-Hr3"
      },
      "execution_count": null,
      "outputs": []
    },
    {
      "cell_type": "code",
      "source": [],
      "metadata": {
        "id": "PHN8I8YT-JLW"
      },
      "execution_count": null,
      "outputs": []
    },
    {
      "cell_type": "markdown",
      "source": [
        "함수 라이브러리에 많은 함수가 잇음.\n",
        "제일 큰건 numpy.. 그 밑에 grouping 여러개"
      ],
      "metadata": {
        "id": "G7lDQAhU-KIK"
      }
    },
    {
      "cell_type": "code",
      "metadata": {
        "id": "JXicrkYOzPRo",
        "colab": {
          "base_uri": "https://localhost:8080/"
        },
        "outputId": "808060da-4410-4330-88e7-1e3ba27e46bf"
      },
      "source": [
        "import numpy as np\n",
        "np.random.randn(100) #함수니까 무조건 ()\n",
        "#randn이라는 함수는 random number을 generate해주는 함수 중, normal distribution을 해준다. (0평균과 1분산으로)"
      ],
      "execution_count": 3,
      "outputs": [
        {
          "output_type": "execute_result",
          "data": {
            "text/plain": [
              "array([ 0.87778708, -1.45204094,  0.97784345,  0.23445324, -1.02771945,\n",
              "       -0.02295682, -1.28281823, -0.56152994, -1.32078591, -0.26159307,\n",
              "        1.30194068, -2.04302192,  0.62023722,  0.84658617, -0.77977492,\n",
              "        0.86062795,  0.73779944,  1.60961593,  0.870233  ,  0.39443723,\n",
              "        0.91966674,  1.1473456 , -0.02002395, -0.20720668,  0.10880556,\n",
              "        1.09612366, -0.1085587 ,  1.39634526,  0.67446698,  1.03628301,\n",
              "       -0.89814437, -1.33055008,  0.32690807, -0.01785949, -0.9564348 ,\n",
              "       -0.7280189 ,  0.63281483, -1.31835268, -0.28318263, -0.01793155,\n",
              "        0.52048858,  0.26382557,  0.6393224 ,  0.00862332, -0.35575592,\n",
              "        1.9859958 ,  1.41817242,  0.08156494, -0.09526875, -0.74478138,\n",
              "        0.42402419, -1.37860675, -0.5003234 , -0.0491777 , -1.6328361 ,\n",
              "        0.25193599,  1.95854684, -0.24920042, -0.19935295, -0.21889939,\n",
              "        0.09461447,  1.02628904,  1.49080048,  1.02737201,  2.1836264 ,\n",
              "        0.9564672 , -0.24983229,  0.19978923, -0.17271132,  2.03335537,\n",
              "       -1.44878258,  1.36076096,  0.01012245, -1.57391622, -1.74124296,\n",
              "        1.24855179, -0.20475046,  0.27456126,  0.48549917,  1.00660462,\n",
              "       -0.67070007, -0.02733358, -0.35863205, -0.03725679, -0.68465219,\n",
              "       -1.94712988,  0.0657184 , -0.31903466, -0.57606749,  1.53301188,\n",
              "        2.02582726,  1.46352791,  0.24048409,  0.60745733, -1.89059879,\n",
              "       -1.15970085,  0.57407256, -0.46468579, -0.87861073,  0.23209195])"
            ]
          },
          "metadata": {},
          "execution_count": 3
        }
      ]
    },
    {
      "cell_type": "code",
      "source": [
        "np.random.randn(2, 3)"
      ],
      "metadata": {
        "colab": {
          "base_uri": "https://localhost:8080/"
        },
        "id": "a-SKxIV-A125",
        "outputId": "6ba6867c-70a1-41e0-cba6-73027476ecf0"
      },
      "execution_count": 4,
      "outputs": [
        {
          "output_type": "execute_result",
          "data": {
            "text/plain": [
              "array([[-0.80148588, -1.67856613,  0.19614569],\n",
              "       [-0.66053341, -1.3702143 , -2.1479569 ]])"
            ]
          },
          "metadata": {},
          "execution_count": 4
        }
      ]
    },
    {
      "cell_type": "code",
      "source": [
        "np.random.randn(2,3,5)"
      ],
      "metadata": {
        "colab": {
          "base_uri": "https://localhost:8080/"
        },
        "id": "AOL_3hX3BLgn",
        "outputId": "8345790f-a82e-4e4a-d4e2-4a424bb3754e"
      },
      "execution_count": 5,
      "outputs": [
        {
          "output_type": "execute_result",
          "data": {
            "text/plain": [
              "array([[[ 0.32178349,  0.09675066,  1.3524488 , -0.67010056,\n",
              "         -2.13545023],\n",
              "        [-0.03118467, -0.69098182,  1.58132238,  0.60326307,\n",
              "         -0.50492986],\n",
              "        [-0.74277228,  0.08045039, -0.52536072,  0.2777716 ,\n",
              "         -1.93025624]],\n",
              "\n",
              "       [[ 1.55175471,  0.06994286, -0.34867815,  0.62193067,\n",
              "         -0.94844795],\n",
              "        [-0.19293722,  0.58104231,  1.8056884 , -0.10171204,\n",
              "         -1.09624487],\n",
              "        [ 0.09940863, -0.48010312, -1.18268271,  1.0283203 ,\n",
              "          0.33044732]]])"
            ]
          },
          "metadata": {},
          "execution_count": 5
        }
      ]
    },
    {
      "cell_type": "markdown",
      "source": [
        "공대 언어.\n",
        "pyplot이라는 폴더 안에잇는 hist function"
      ],
      "metadata": {
        "id": "7p8p4daQB6is"
      }
    },
    {
      "cell_type": "code",
      "metadata": {
        "id": "oKT4vn4MwyLA",
        "colab": {
          "base_uri": "https://localhost:8080/",
          "height": 702
        },
        "outputId": "b00fe56d-7018-496e-d428-99c99c15ab14"
      },
      "source": [
        "import matplotlib\n",
        "matplotlib.pyplot.hist(n, bins=50)\n",
        "#histogram 은 visualization에 매우 유용\n",
        "#n =아까 100개만든거, y축은 빈도수. x는 bin(바구니)\n",
        "#n을 키울수록 정규분포를 향해...standard deviation = 67%\n",
        "#normal standard deviation = 1. 2=95%. 3=99%"
      ],
      "execution_count": 7,
      "outputs": [
        {
          "output_type": "execute_result",
          "data": {
            "text/plain": [
              "(array([1., 0., 0., 1., 0., 0., 1., 0., 1., 0., 0., 1., 0., 1., 2., 3., 1.,\n",
              "        5., 2., 3., 3., 6., 8., 4., 1., 2., 2., 4., 5., 4., 1., 3., 6., 4.,\n",
              "        0., 4., 5., 1., 3., 2., 1., 0., 3., 1., 0., 1., 2., 0., 0., 2.]),\n",
              " array([-2.95316139, -2.85070476, -2.74824813, -2.6457915 , -2.54333487,\n",
              "        -2.44087824, -2.33842161, -2.23596498, -2.13350835, -2.03105171,\n",
              "        -1.92859508, -1.82613845, -1.72368182, -1.62122519, -1.51876856,\n",
              "        -1.41631193, -1.3138553 , -1.21139867, -1.10894204, -1.00648541,\n",
              "        -0.90402878, -0.80157215, -0.69911552, -0.59665889, -0.49420226,\n",
              "        -0.39174563, -0.289289  , -0.18683237, -0.08437574,  0.0180809 ,\n",
              "         0.12053753,  0.22299416,  0.32545079,  0.42790742,  0.53036405,\n",
              "         0.63282068,  0.73527731,  0.83773394,  0.94019057,  1.0426472 ,\n",
              "         1.14510383,  1.24756046,  1.35001709,  1.45247372,  1.55493035,\n",
              "         1.65738698,  1.75984361,  1.86230024,  1.96475687,  2.06721351,\n",
              "         2.16967014]),\n",
              " <BarContainer object of 50 artists>)"
            ]
          },
          "metadata": {},
          "execution_count": 7
        },
        {
          "output_type": "display_data",
          "data": {
            "text/plain": [
              "<Figure size 640x480 with 1 Axes>"
            ],
            "image/png": "[encoded data removed]"
          },
          "metadata": {}
        }
      ]
    },
    {
      "cell_type": "markdown",
      "source": [
        "안에 폴더를 import도 가능"
      ],
      "metadata": {
        "id": "qVgPL_oQDt_A"
      }
    },
    {
      "cell_type": "code",
      "metadata": {
        "colab": {
          "base_uri": "https://localhost:8080/",
          "height": 350
        },
        "id": "zQJ4LnbA-Hvz",
        "outputId": "bec7eeff-8cae-4c3d-f090-eaf78cdb5fa9"
      },
      "source": [
        "import matplotlib.pyplot\n",
        "matplotlib.pyplot.hist(n)"
      ],
      "execution_count": null,
      "outputs": [
        {
          "output_type": "execute_result",
          "data": {
            "text/plain": [
              "(array([ 4.,  4.,  4.,  8., 19., 21., 16., 13.,  6.,  5.]),\n",
              " array([-2.54804234, -2.0585933 , -1.56914426, -1.07969522, -0.59024618,\n",
              "        -0.10079714,  0.3886519 ,  0.87810094,  1.36754998,  1.85699902,\n",
              "         2.34644806]),\n",
              " <a list of 10 Patch objects>)"
            ]
          },
          "metadata": {},
          "execution_count": 4
        },
        {
          "output_type": "display_data",
          "data": {
            "image/png": "[encoded data removed]",
            "text/plain": [
              "<Figure size 432x288 with 1 Axes>"
            ]
          },
          "metadata": {
            "needs_background": "light"
          }
        }
      ]
    },
    {
      "cell_type": "markdown",
      "source": [
        "제일 많이 씀"
      ],
      "metadata": {
        "id": "Ua0FdcY4DzcP"
      }
    },
    {
      "cell_type": "code",
      "metadata": {
        "id": "AWU6awi53c07",
        "outputId": "5b7f25e3-ddcd-477c-a759-72bad187d1a4",
        "colab": {
          "base_uri": "https://localhost:8080/",
          "height": 520
        }
      },
      "source": [
        "import matplotlib.pyplot as plt\n",
        "plt.hist(n)"
      ],
      "execution_count": 8,
      "outputs": [
        {
          "output_type": "execute_result",
          "data": {
            "text/plain": [
              "(array([ 2.,  2.,  4., 14., 22., 17., 14., 15.,  5.,  5.]),\n",
              " array([-2.95316139, -2.44087824, -1.92859508, -1.41631193, -0.90402878,\n",
              "        -0.39174563,  0.12053753,  0.63282068,  1.14510383,  1.65738698,\n",
              "         2.16967014]),\n",
              " <BarContainer object of 10 artists>)"
            ]
          },
          "metadata": {},
          "execution_count": 8
        },
        {
          "output_type": "display_data",
          "data": {
            "text/plain": [
              "<Figure size 640x480 with 1 Axes>"
            ],
            "image/png": "[encoded data removed]"
          },
          "metadata": {}
        }
      ]
    },
    {
      "cell_type": "markdown",
      "source": [
        "## from import를 쓰면 import as처럼 축약해서 부를 수 있는 효과"
      ],
      "metadata": {
        "id": "v1zA2xRWzpdu"
      }
    },
    {
      "cell_type": "code",
      "metadata": {
        "colab": {
          "base_uri": "https://localhost:8080/",
          "height": 350
        },
        "id": "moIjn3Kv-Hqy",
        "outputId": "4b1e3880-1576-4b63-b4d0-192704221a8d"
      },
      "source": [
        "from matplotlib import pyplot\n",
        "pyplot.hist(n)"
      ],
      "execution_count": null,
      "outputs": [
        {
          "output_type": "execute_result",
          "data": {
            "text/plain": [
              "(array([ 3.,  4.,  9., 11., 26., 19., 16., 10.,  1.,  1.]),\n",
              " array([-2.51307585, -1.99199295, -1.47091005, -0.94982715, -0.42874425,\n",
              "         0.09233865,  0.61342155,  1.13450445,  1.65558734,  2.17667024,\n",
              "         2.69775314]),\n",
              " <a list of 10 Patch objects>)"
            ]
          },
          "metadata": {},
          "execution_count": 11
        },
        {
          "output_type": "display_data",
          "data": {
            "image/png": "[encoded data removed]",
            "text/plain": [
              "<Figure size 432x288 with 1 Axes>"
            ]
          },
          "metadata": {
            "needs_background": "light"
          }
        }
      ]
    },
    {
      "cell_type": "code",
      "metadata": {
        "colab": {
          "base_uri": "https://localhost:8080/",
          "height": 350
        },
        "id": "ORo259i7_Uqi",
        "outputId": "8faa9ebd-66ff-4f86-e588-f114023e649d"
      },
      "source": [
        "from matplotlib.pyplot import hist\n",
        "hist(n)"
      ],
      "execution_count": null,
      "outputs": [
        {
          "output_type": "execute_result",
          "data": {
            "text/plain": [
              "(array([ 3.,  4.,  9., 11., 26., 19., 16., 10.,  1.,  1.]),\n",
              " array([-2.51307585, -1.99199295, -1.47091005, -0.94982715, -0.42874425,\n",
              "         0.09233865,  0.61342155,  1.13450445,  1.65558734,  2.17667024,\n",
              "         2.69775314]),\n",
              " <a list of 10 Patch objects>)"
            ]
          },
          "metadata": {},
          "execution_count": 14
        },
        {
          "output_type": "display_data",
          "data": {
            "image/png": "[encoded data removed]",
            "text/plain": [
              "<Figure size 432x288 with 1 Axes>"
            ]
          },
          "metadata": {
            "needs_background": "light"
          }
        }
      ]
    }
  ]
}