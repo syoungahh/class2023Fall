{
  "nbformat": 4,
  "nbformat_minor": 0,
  "metadata": {
    "colab": {
      "name": "import.ipynb",
      "provenance": [],
      "include_colab_link": true
    },
    "kernelspec": {
      "name": "python3",
      "display_name": "Python 3"
    },
    "language_info": {
      "name": "python"
    }
  },
  "cells": [
    {
      "cell_type": "markdown",
      "metadata": {
        "id": "view-in-github",
        "colab_type": "text"
      },
      "source": [
        "<a href=\"https://colab.research.google.com/github/syoungahh/class2023Fall/blob/main/import.ipynb\" target=\"_parent\"><img src=\"https://colab.research.google.com/assets/colab-badge.svg\" alt=\"Open In Colab\"/></a>"
      ]
    },
    {
      "cell_type": "markdown",
      "source": [
        "함수 라이브러리에 많은 함수가 잇음.\n",
        "제일 큰건 numpy.. 그 밑에 grouping 여러개"
      ],
      "metadata": {
        "id": "G7lDQAhU-KIK"
      }
    },
    {
      "cell_type": "code",
      "metadata": {
        "id": "JXicrkYOzPRo"
      },
      "source": [
        "import numpy as np\n",
        "n= np.random.randn(100) #함수니까 무조건 ()\n",
        "#randn이라는 함수는 random number을 generate해주는 함수 중, normal distribution(정규분포)을 해준다. (0평균과 1분산으로)"
      ],
      "execution_count": 13,
      "outputs": []
    },
    {
      "cell_type": "code",
      "source": [
        "np.random.randn(2, 3)"
      ],
      "metadata": {
        "colab": {
          "base_uri": "https://localhost:8080/"
        },
        "id": "a-SKxIV-A125",
        "outputId": "31aee863-aa80-422c-c223-8c85196b42db"
      },
      "execution_count": 7,
      "outputs": [
        {
          "output_type": "execute_result",
          "data": {
            "text/plain": [
              "array([[-1.44535417, -0.01773806, -1.32178747],\n",
              "       [-0.3706368 ,  0.2091908 , -0.17837464]])"
            ]
          },
          "metadata": {},
          "execution_count": 7
        }
      ]
    },
    {
      "cell_type": "code",
      "source": [
        "np.random.randn(2,3,5)"
      ],
      "metadata": {
        "colab": {
          "base_uri": "https://localhost:8080/"
        },
        "id": "AOL_3hX3BLgn",
        "outputId": "28e35231-113d-40a7-da86-6f6ee0f8f9f4"
      },
      "execution_count": 8,
      "outputs": [
        {
          "output_type": "execute_result",
          "data": {
            "text/plain": [
              "array([[[ 0.47688389, -1.56820353,  1.40115332,  0.36014887,\n",
              "         -1.13658717],\n",
              "        [-0.11641473, -2.09990765,  0.45429182,  0.04378209,\n",
              "         -1.66761096],\n",
              "        [ 1.0006967 , -0.35993983, -0.34111278, -1.23597622,\n",
              "         -0.34481985]],\n",
              "\n",
              "       [[ 0.76914097, -0.62508352,  0.96056871,  2.02156596,\n",
              "         -1.5126215 ],\n",
              "        [-0.09419303, -1.61446297, -1.01815785, -0.72117469,\n",
              "         -0.12585128],\n",
              "        [ 0.62038905,  0.36675213, -0.09792665,  1.74130947,\n",
              "         -0.64888908]]])"
            ]
          },
          "metadata": {},
          "execution_count": 8
        }
      ]
    },
    {
      "cell_type": "markdown",
      "source": [
        "공대 언어. pyplot이라는 폴더 안에잇는 hist function. histogram=막대그래프"
      ],
      "metadata": {
        "id": "7p8p4daQB6is"
      }
    },
    {
      "cell_type": "code",
      "metadata": {
        "id": "oKT4vn4MwyLA",
        "colab": {
          "base_uri": "https://localhost:8080/",
          "height": 522
        },
        "outputId": "2486f58d-353f-4454-bbd5-1a9ba2b2694b"
      },
      "source": [
        "import matplotlib\n",
        "matplotlib.pyplot.hist(n, bins=10)\n",
        "\n",
        "#histogram 은 visualization에 매우 유용\n",
        "\n",
        "#n =아까 100개만든거, y축은 빈도수. bin(바구니, 막대의 개수)\n",
        "#n을 키울수록 정규분포를 향해...standard deviation = 67%\n",
        "#normal standard deviation = 1. 2=95%. 3=99%"
      ],
      "execution_count": 23,
      "outputs": [
        {
          "output_type": "execute_result",
          "data": {
            "text/plain": [
              "(array([ 2.,  5.,  4.,  8., 23., 24., 11., 13.,  6.,  4.]),\n",
              " array([-2.72609643, -2.22010308, -1.71410972, -1.20811637, -0.70212302,\n",
              "        -0.19612967,  0.30986368,  0.81585704,  1.32185039,  1.82784374,\n",
              "         2.33383709]),\n",
              " <BarContainer object of 10 artists>)"
            ]
          },
          "metadata": {},
          "execution_count": 23
        },
        {
          "output_type": "display_data",
          "data": {
            "text/plain": [
              "<Figure size 640x480 with 1 Axes>"
            ],
            "image/png": "[encoded data removed]"
          },
          "metadata": {}
        }
      ]
    },
    {
      "cell_type": "markdown",
      "source": [
        "안에 폴더를 import도 가능"
      ],
      "metadata": {
        "id": "qVgPL_oQDt_A"
      }
    },
    {
      "cell_type": "code",
      "metadata": {
        "colab": {
          "base_uri": "https://localhost:8080/",
          "height": 522
        },
        "id": "zQJ4LnbA-Hvz",
        "outputId": "a06597ab-8aa0-4711-ffb0-87c96380a9b5"
      },
      "source": [
        "import matplotlib.pyplot\n",
        "matplotlib.pyplot.hist(n)"
      ],
      "execution_count": 19,
      "outputs": [
        {
          "output_type": "execute_result",
          "data": {
            "text/plain": [
              "(array([ 2.,  5.,  4.,  8., 23., 24., 11., 13.,  6.,  4.]),\n",
              " array([-2.72609643, -2.22010308, -1.71410972, -1.20811637, -0.70212302,\n",
              "        -0.19612967,  0.30986368,  0.81585704,  1.32185039,  1.82784374,\n",
              "         2.33383709]),\n",
              " <BarContainer object of 10 artists>)"
            ]
          },
          "metadata": {},
          "execution_count": 19
        },
        {
          "output_type": "display_data",
          "data": {
            "text/plain": [
              "<Figure size 640x480 with 1 Axes>"
            ],
            "image/png": "[encoded data removed]"
          },
          "metadata": {}
        }
      ]
    },
    {
      "cell_type": "markdown",
      "source": [
        "제일 많이 씀"
      ],
      "metadata": {
        "id": "Ua0FdcY4DzcP"
      }
    },
    {
      "cell_type": "code",
      "metadata": {
        "id": "AWU6awi53c07",
        "outputId": "6bcc7eb1-4942-46f1-e63b-2aeac5063980",
        "colab": {
          "base_uri": "https://localhost:8080/",
          "height": 522
        }
      },
      "source": [
        "import matplotlib.pyplot as plt\n",
        "plt.hist(n)"
      ],
      "execution_count": 20,
      "outputs": [
        {
          "output_type": "execute_result",
          "data": {
            "text/plain": [
              "(array([ 2.,  5.,  4.,  8., 23., 24., 11., 13.,  6.,  4.]),\n",
              " array([-2.72609643, -2.22010308, -1.71410972, -1.20811637, -0.70212302,\n",
              "        -0.19612967,  0.30986368,  0.81585704,  1.32185039,  1.82784374,\n",
              "         2.33383709]),\n",
              " <BarContainer object of 10 artists>)"
            ]
          },
          "metadata": {},
          "execution_count": 20
        },
        {
          "output_type": "display_data",
          "data": {
            "text/plain": [
              "<Figure size 640x480 with 1 Axes>"
            ],
            "image/png": "[encoded data removed]"
          },
          "metadata": {}
        }
      ]
    },
    {
      "cell_type": "markdown",
      "source": [
        "## from import를 쓰면 import as처럼 축약해서 부를 수 있는 효과"
      ],
      "metadata": {
        "id": "v1zA2xRWzpdu"
      }
    },
    {
      "cell_type": "code",
      "metadata": {
        "colab": {
          "base_uri": "https://localhost:8080/",
          "height": 522
        },
        "id": "moIjn3Kv-Hqy",
        "outputId": "c3646f1d-0c8d-4586-8ea1-8d7bf9bc9d53"
      },
      "source": [
        "from matplotlib import pyplot\n",
        "pyplot.hist(n)"
      ],
      "execution_count": 21,
      "outputs": [
        {
          "output_type": "execute_result",
          "data": {
            "text/plain": [
              "(array([ 2.,  5.,  4.,  8., 23., 24., 11., 13.,  6.,  4.]),\n",
              " array([-2.72609643, -2.22010308, -1.71410972, -1.20811637, -0.70212302,\n",
              "        -0.19612967,  0.30986368,  0.81585704,  1.32185039,  1.82784374,\n",
              "         2.33383709]),\n",
              " <BarContainer object of 10 artists>)"
            ]
          },
          "metadata": {},
          "execution_count": 21
        },
        {
          "output_type": "display_data",
          "data": {
            "text/plain": [
              "<Figure size 640x480 with 1 Axes>"
            ],
            "image/png": "[encoded data removed]"
          },
          "metadata": {}
        }
      ]
    },
    {
      "cell_type": "code",
      "metadata": {
        "colab": {
          "base_uri": "https://localhost:8080/",
          "height": 522
        },
        "id": "ORo259i7_Uqi",
        "outputId": "1438a6d6-dd04-45b5-95a1-f55584754b4c"
      },
      "source": [
        "from matplotlib.pyplot import hist\n",
        "hist(n)"
      ],
      "execution_count": 24,
      "outputs": [
        {
          "output_type": "execute_result",
          "data": {
            "text/plain": [
              "(array([ 2.,  5.,  4.,  8., 23., 24., 11., 13.,  6.,  4.]),\n",
              " array([-2.72609643, -2.22010308, -1.71410972, -1.20811637, -0.70212302,\n",
              "        -0.19612967,  0.30986368,  0.81585704,  1.32185039,  1.82784374,\n",
              "         2.33383709]),\n",
              " <BarContainer object of 10 artists>)"
            ]
          },
          "metadata": {},
          "execution_count": 24
        },
        {
          "output_type": "display_data",
          "data": {
            "text/plain": [
              "<Figure size 640x480 with 1 Axes>"
            ],
            "image/png": "[encoded data removed]"
          },
          "metadata": {}
        }
      ]
    }
  ]
}